{
 "cells": [
  {
   "cell_type": "markdown",
   "metadata": {},
   "source": [
        "<a href=\"https://colab.research.google.com/github/gbarbalinardo/scientific-python/blob/master/time_evolution.ipynb\" target=\"_parent\"><img src=\"https://colab.research.google.com/assets/colab-badge.svg\" alt=\"Open In Colab\"/></a>"
   ]
  },
  {
   "cell_type": "markdown",
   "metadata": {},
   "source": [
    "# Hamiltonian time evolution"
   ]
  },
  {
   "cell_type": "code",
   "execution_count": 1,
   "metadata": {
    "collapsed": true
   },
   "outputs": [],
   "source": [
    "import numpy as np\n",
    "import matplotlib.pyplot as plt\n",
    "from scipy.integrate import complex_ode, ode\n",
    "from scipy.linalg import expm\n",
    "\n",
    "HBAR = 1.0\n",
    "INTERACTION = 0.1\n",
    "EPSILON = 1.\n",
    "\n",
    "\n",
    "def hamiltonian(t=0):\n",
    "    return np.array([[EPSILON, INTERACTION], [INTERACTION, -EPSILON]])\n",
    "\n",
    "def rhs(t, psi):\n",
    "    return - 1.0j / HBAR * hamiltonian().dot(psi)\n",
    "\n",
    "def plot_evolution(times, psi_t):\n",
    "    plt.plot(times, psi_t[:, 0].real, label='psi_0_real')\n",
    "    plt.plot(times, psi_t[:, 0].imag, label='psi_0_imag')\n",
    "    plt.plot(times, psi_t[:, 1].real, label='psi_1_real')\n",
    "    plt.plot(times, psi_t[:, 1].imag, label='psi_1_imag')\n",
    "    plt.plot(times, psi_t.dot(psi_t.T.conj()).diagonal().real, label='normalization')\n",
    "    plt.xlabel('t')\n",
    "    plt.grid(True)\n",
    "    plt.legend()\n",
    "    plt.show()"
   ]
  },
  {
   "cell_type": "markdown",
   "metadata": {},
   "source": [
    "## Define constants"
   ]
  },
  {
   "cell_type": "code",
   "execution_count": 2,
   "metadata": {
    "collapsed": true
   },
   "outputs": [],
   "source": [
    "\n",
    "t0 = 0.0\n",
    "population_0 = 0.1\n",
    "population_1 = np.sqrt(1 - population_0 ** 2)\n",
    "psi_0 = np.array([population_0, population_1]).astype(np.complex)\n",
    "\n",
    "# Create the array `t` of time values at which to compute\n",
    "# the solution, and create an array to hold the solution.\n",
    "# Put the initial value in the solution array.\n",
    "MAX_TIME = 10\n",
    "N_TIMES = 100\n",
    "times = np.linspace(t0, MAX_TIME, N_TIMES)\n"
   ]
  },
  {
   "cell_type": "markdown",
   "metadata": {},
   "source": [
    "## Exact Solution"
   ]
  },
  {
   "cell_type": "code",
   "execution_count": 3,
   "metadata": {
    "collapsed": true
   },
   "outputs": [],
   "source": [
    "\n",
    "# Exact solution\n",
    "psi_t = np.zeros((N_TIMES, 2)).astype(np.complex)\n",
    "\n",
    "# For each time calculate the time evolution\n",
    "for t in range(np.shape(times)[0]):\n",
    "    time = times[t]\n",
    "    psi_t[t] = expm(-1j * hamiltonian() * time).dot(psi_0)\n",
    "\n",
    "\n",
    "# Plot the solution...\n",
    "plot_evolution(times, psi_t)"
   ]
  },
  {
   "cell_type": "markdown",
   "metadata": {},
   "source": [
    "## Crank Nicolson Propagator"
   ]
  },
  {
   "cell_type": "code",
   "execution_count": 4,
   "metadata": {
    "collapsed": true
   },
   "outputs": [],
   "source": [
    "\n",
    "# Crank Nicolson propagator\n",
    "psi_t = np.zeros((N_TIMES, 2)).astype(np.complex)\n",
    "psi_t[0] = psi_0\n",
    "ones = np.eye(hamiltonian().shape[0])\n",
    "for t in range(1, np.shape(times)[0]):\n",
    "    time = times[t]\n",
    "    delta_t = times[t] - times[t-1]\n",
    "    propagator = np.linalg.inv(ones + 1j * delta_t / 2  * hamiltonian())\n",
    "    propagator = propagator.dot(ones - 1j * delta_t / 2  * hamiltonian())\n",
    "    psi_t[t] = propagator.dot(psi_t[t-1])\n",
    "\n",
    "plot_evolution(times, psi_t)\n",
    "\n"
   ]
  },
  {
   "cell_type": "markdown",
   "metadata": {},
   "source": [
    "## Runge Kutta using scipy"
   ]
  },
  {
   "cell_type": "code",
   "execution_count": 5,
   "metadata": {
    "collapsed": true
   },
   "outputs": [],
   "source": [
    "\n",
    "# Create an `ode` instance to solve the system of differential\n",
    "# equations defined by `hamiltonian`, and set the solver method to dopri5 (an alternative more precise RK-8 is dop853)\n",
    "solver = complex_ode(rhs)\n",
    "solver.set_integrator('dopri5')\n",
    "solver.set_initial_value(psi_0, t0)\n",
    "\n",
    "psi_t = np.zeros((N_TIMES, 2)).astype(np.complex)\n",
    "psi_t[0] = psi_0\n",
    "\n",
    "# Repeatedly call the `integrate` method to advance the\n",
    "# solution to time t[k], and save the solution in sol[k].\n",
    "for i in range(1, times.shape[0]):\n",
    "    t = times[i]\n",
    "    if not solver.successful():\n",
    "        break\n",
    "    psi_t[i] = solver.integrate(t)\n",
    "\n",
    "# Plot the solution...\n",
    "plot_evolution(times, psi_t)"
   ]
  },
  {
   "cell_type": "code",
   "execution_count": null,
   "metadata": {
    "collapsed": true
   },
   "outputs": [],
   "source": []
  }
 ],
 "metadata": {
  "kernelspec": {
   "display_name": "Python 3",
   "language": "python",
   "name": "python3"
  },
  "language_info": {
   "codemirror_mode": {
    "name": "ipython",
    "version": 3
   },
   "file_extension": ".py",
   "mimetype": "text/x-python",
   "name": "python",
   "nbconvert_exporter": "python",
   "pygments_lexer": "ipython3",
   "version": "3.5.3"
  }
 },
 "nbformat": 4,
 "nbformat_minor": 1
}
